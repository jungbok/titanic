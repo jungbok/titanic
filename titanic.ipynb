{
 "cells": [
  {
   "cell_type": "code",
   "execution_count": 1,
   "id": "productive-attempt",
   "metadata": {
    "_cell_guid": "b1076dfc-b9ad-4769-8c92-a6c4dae69d19",
    "_uuid": "8f2839f25d086af736a60e9eeb907d3b93b6e0e5",
    "execution": {
     "iopub.execute_input": "2021-05-03T22:48:50.326995Z",
     "iopub.status.busy": "2021-05-03T22:48:50.326243Z",
     "iopub.status.idle": "2021-05-03T22:48:50.331623Z",
     "shell.execute_reply": "2021-05-03T22:48:50.332177Z"
    },
    "papermill": {
     "duration": 0.023117,
     "end_time": "2021-05-03T22:48:50.332494",
     "exception": false,
     "start_time": "2021-05-03T22:48:50.309377",
     "status": "completed"
    },
    "tags": []
   },
   "outputs": [
    {
     "name": "stdout",
     "output_type": "stream",
     "text": [
      "/kaggle/input/titanic/train.csv\n",
      "/kaggle/input/titanic/test.csv\n",
      "/kaggle/input/titanic/gender_submission.csv\n"
     ]
    }
   ],
   "source": [
    "# This Python 3 environment comes with many helpful analytics libraries installed\n",
    "# It is defined by the kaggle/python Docker image: https://github.com/kaggle/docker-python\n",
    "# For example, here's several helpful packages to load\n",
    "\n",
    "import numpy as np # linear algebra\n",
    "import pandas as pd # data processing, CSV file I/O (e.g. pd.read_csv)\n",
    "\n",
    "# Input data files are available in the read-only \"../input/\" directory\n",
    "# For example, running this (by clicking run or pressing Shift+Enter) will list all files under the input directory\n",
    "\n",
    "import os\n",
    "for dirname, _, filenames in os.walk('/kaggle/input'):\n",
    "    for filename in filenames:\n",
    "        print(os.path.join(dirname, filename))\n",
    "\n",
    "# You can write up to 20GB to the current directory (/kaggle/working/) that gets preserved as output when you create a version using \"Save & Run All\" \n",
    "# You can also write temporary files to /kaggle/temp/, but they won't be saved outside of the current session"
   ]
  },
  {
   "cell_type": "markdown",
   "id": "stupid-premiere",
   "metadata": {
    "papermill": {
     "duration": 0.005261,
     "end_time": "2021-05-03T22:48:50.344247",
     "exception": false,
     "start_time": "2021-05-03T22:48:50.338986",
     "status": "completed"
    },
    "tags": []
   },
   "source": [
    "# load the dataset (Train, Test)"
   ]
  },
  {
   "cell_type": "code",
   "execution_count": 2,
   "id": "accessory-representation",
   "metadata": {
    "execution": {
     "iopub.execute_input": "2021-05-03T22:48:50.361628Z",
     "iopub.status.busy": "2021-05-03T22:48:50.360917Z",
     "iopub.status.idle": "2021-05-03T22:48:50.445508Z",
     "shell.execute_reply": "2021-05-03T22:48:50.445958Z"
    },
    "papermill": {
     "duration": 0.096339,
     "end_time": "2021-05-03T22:48:50.446149",
     "exception": false,
     "start_time": "2021-05-03T22:48:50.349810",
     "status": "completed"
    },
    "tags": []
   },
   "outputs": [
    {
     "name": "stdout",
     "output_type": "stream",
     "text": [
      "   PassengerId  Survived  Pclass  \\\n",
      "0            1         0       3   \n",
      "1            2         1       1   \n",
      "2            3         1       3   \n",
      "\n",
      "                                                Name     Sex   Age  SibSp  \\\n",
      "0                            Braund, Mr. Owen Harris    male  22.0      1   \n",
      "1  Cumings, Mrs. John Bradley (Florence Briggs Th...  female  38.0      1   \n",
      "2                             Heikkinen, Miss. Laina  female  26.0      0   \n",
      "\n",
      "   Parch            Ticket     Fare Cabin Embarked  \n",
      "0      0         A/5 21171   7.2500   NaN        S  \n",
      "1      0          PC 17599  71.2833   C85        C  \n",
      "2      0  STON/O2. 3101282   7.9250   NaN        S  \n",
      "Train data:     PassengerId  Pclass                                               Name  \\\n",
      "0            1       3                            Braund, Mr. Owen Harris   \n",
      "1            2       1  Cumings, Mrs. John Bradley (Florence Briggs Th...   \n",
      "2            3       3                             Heikkinen, Miss. Laina   \n",
      "\n",
      "      Sex   Age  SibSp  Parch            Ticket     Fare Cabin Embarked  \n",
      "0    male  22.0      1      0         A/5 21171   7.2500   NaN        S  \n",
      "1  female  38.0      1      0          PC 17599  71.2833   C85        C  \n",
      "2  female  26.0      0      0  STON/O2. 3101282   7.9250   NaN        S  \n",
      "Train data:         PassengerId    Survived      Pclass         Age       SibSp  \\\n",
      "count   891.000000  891.000000  891.000000  714.000000  891.000000   \n",
      "mean    446.000000    0.383838    2.308642   29.699118    0.523008   \n",
      "std     257.353842    0.486592    0.836071   14.526497    1.102743   \n",
      "min       1.000000    0.000000    1.000000    0.420000    0.000000   \n",
      "25%     223.500000    0.000000    2.000000   20.125000    0.000000   \n",
      "50%     446.000000    0.000000    3.000000   28.000000    0.000000   \n",
      "75%     668.500000    1.000000    3.000000   38.000000    1.000000   \n",
      "max     891.000000    1.000000    3.000000   80.000000    8.000000   \n",
      "\n",
      "            Parch        Fare  \n",
      "count  891.000000  891.000000  \n",
      "mean     0.381594   32.204208  \n",
      "std      0.806057   49.693429  \n",
      "min      0.000000    0.000000  \n",
      "25%      0.000000    7.910400  \n",
      "50%      0.000000   14.454200  \n",
      "75%      0.000000   31.000000  \n",
      "max      6.000000  512.329200  \n",
      "Test data:     PassengerId  Pclass                              Name     Sex   Age  SibSp  \\\n",
      "0          892       3                  Kelly, Mr. James    male  34.5      0   \n",
      "1          893       3  Wilkes, Mrs. James (Ellen Needs)  female  47.0      1   \n",
      "2          894       2         Myles, Mr. Thomas Francis    male  62.0      0   \n",
      "\n",
      "   Parch  Ticket    Fare Cabin Embarked  \n",
      "0      0  330911  7.8292   NaN        Q  \n",
      "1      0  363272  7.0000   NaN        S  \n",
      "2      0  240276  9.6875   NaN        Q  \n"
     ]
    }
   ],
   "source": [
    "train_data = pd.read_csv(\"/kaggle/input/titanic/train.csv\")\n",
    "print(train_data.head(3))\n",
    "train_y = train_data['Survived']\n",
    "train_X = train_data.drop(columns= ['Survived'])\n",
    "print(\"Train data: \", train_X.head(3))\n",
    "print(\"Train data: \", train_data.describe())\n",
    "\n",
    "test_data = pd.read_csv(\"/kaggle/input/titanic/test.csv\")\n",
    "# test data does not have survived\n",
    "print(\"Test data: \", test_data.head(3))"
   ]
  },
  {
   "cell_type": "markdown",
   "id": "vocational-flush",
   "metadata": {
    "papermill": {
     "duration": 0.005533,
     "end_time": "2021-05-03T22:48:50.457892",
     "exception": false,
     "start_time": "2021-05-03T22:48:50.452359",
     "status": "completed"
    },
    "tags": []
   },
   "source": [
    "Classification - What should I use?"
   ]
  },
  {
   "cell_type": "code",
   "execution_count": 3,
   "id": "induced-consultation",
   "metadata": {
    "execution": {
     "iopub.execute_input": "2021-05-03T22:48:50.480961Z",
     "iopub.status.busy": "2021-05-03T22:48:50.479407Z",
     "iopub.status.idle": "2021-05-03T22:48:50.506040Z",
     "shell.execute_reply": "2021-05-03T22:48:50.506748Z"
    },
    "papermill": {
     "duration": 0.043206,
     "end_time": "2021-05-03T22:48:50.506969",
     "exception": false,
     "start_time": "2021-05-03T22:48:50.463763",
     "status": "completed"
    },
    "tags": []
   },
   "outputs": [
    {
     "name": "stdout",
     "output_type": "stream",
     "text": [
      "% of women who survived: 0.7420382165605095\n",
      "% of men who survived: 0.18890814558058924\n",
      "mean age:  29.69911764705882\n",
      "% of person age above 60 survived 0.2692307692307692\n",
      "% of person age below 19 survived 0.4817073170731707\n"
     ]
    }
   ],
   "source": [
    "# exploring the patterns - male, female\n",
    "women = train_data.loc[train_data.Sex == 'female'][\"Survived\"]\n",
    "rate_women = sum(women)/len(women)\n",
    "\n",
    "print(\"% of women who survived:\", rate_women)\n",
    "\n",
    "men = train_data.loc[train_data.Sex == 'male'][\"Survived\"]\n",
    "rate_men = sum(men)/len(men)\n",
    "\n",
    "print(\"% of men who survived:\", rate_men)\n",
    "\n",
    "# exploring the patterns - age\n",
    "mean_age = train_data['Age'].mean()\n",
    "print(\"mean age: \", mean_age)\n",
    "above_mean_age = train_data.loc[train_data.Age >= 60][\"Survived\"]\n",
    "rate_above_mean_age = sum(above_mean_age)/len(above_mean_age)\n",
    "print(\"% of person age above 60 survived\", rate_above_mean_age)\n",
    "below_mean_age = train_data.loc[train_data.Age <= 19][\"Survived\"]\n",
    "rate_below_mean_age = sum(below_mean_age)/len(below_mean_age)\n",
    "print(\"% of person age below 19 survived\", rate_below_mean_age)"
   ]
  },
  {
   "cell_type": "code",
   "execution_count": 4,
   "id": "suspended-moscow",
   "metadata": {
    "execution": {
     "iopub.execute_input": "2021-05-03T22:48:50.522675Z",
     "iopub.status.busy": "2021-05-03T22:48:50.522046Z",
     "iopub.status.idle": "2021-05-03T22:48:51.915621Z",
     "shell.execute_reply": "2021-05-03T22:48:51.916302Z"
    },
    "papermill": {
     "duration": 1.402813,
     "end_time": "2021-05-03T22:48:51.916525",
     "exception": false,
     "start_time": "2021-05-03T22:48:50.513712",
     "status": "completed"
    },
    "tags": []
   },
   "outputs": [
    {
     "name": "stdout",
     "output_type": "stream",
     "text": [
      "Your submission was successfully saved!\n"
     ]
    }
   ],
   "source": [
    "# using Decision Tree, Random Forest\n",
    "from sklearn.ensemble import RandomForestClassifier\n",
    "\n",
    "y = train_data[\"Survived\"]\n",
    "\n",
    "features = [\"Pclass\", \"Sex\", \"SibSp\", \"Parch\"]\n",
    "X = pd.get_dummies(train_data[features])\n",
    "X_test = pd.get_dummies(test_data[features])\n",
    "\n",
    "model = RandomForestClassifier(n_estimators=100, max_depth=5, random_state=1)\n",
    "model.fit(X, y)\n",
    "predictions = model.predict(X_test)\n",
    "\n",
    "output = pd.DataFrame({'PassengerId': test_data.PassengerId, 'Survived': predictions})\n",
    "output.to_csv('my_submission.csv', index=False)\n",
    "print(\"Your submission was successfully saved!\")"
   ]
  }
 ],
 "metadata": {
  "kernelspec": {
   "display_name": "Python 3",
   "language": "python",
   "name": "python3"
  },
  "language_info": {
   "codemirror_mode": {
    "name": "ipython",
    "version": 3
   },
   "file_extension": ".py",
   "mimetype": "text/x-python",
   "name": "python",
   "nbconvert_exporter": "python",
   "pygments_lexer": "ipython3",
   "version": "3.7.10"
  },
  "papermill": {
   "default_parameters": {},
   "duration": 10.345197,
   "end_time": "2021-05-03T22:48:52.634799",
   "environment_variables": {},
   "exception": null,
   "input_path": "__notebook__.ipynb",
   "output_path": "__notebook__.ipynb",
   "parameters": {},
   "start_time": "2021-05-03T22:48:42.289602",
   "version": "2.3.3"
  }
 },
 "nbformat": 4,
 "nbformat_minor": 5
}
